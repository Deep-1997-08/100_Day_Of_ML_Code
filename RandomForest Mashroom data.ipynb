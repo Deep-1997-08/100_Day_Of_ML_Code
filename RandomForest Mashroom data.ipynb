{
 "cells": [
  {
   "cell_type": "code",
   "execution_count": 121,
   "id": "b4d0a30b-4ef8-43b5-96dc-8986e3a6af31",
   "metadata": {},
   "outputs": [],
   "source": [
    "import pandas as pd\n",
    "import numpy as np\n",
    "import seaborn as sns"
   ]
  },
  {
   "cell_type": "code",
   "execution_count": 122,
   "id": "b465118d-009f-4670-aa77-f7a98cacfed5",
   "metadata": {},
   "outputs": [],
   "source": [
    "data=pd.read_csv(\"/Users/deepbhattacharjee/Documents/Machine learning project Data set/secondary_data.csv\")"
   ]
  },
  {
   "cell_type": "code",
   "execution_count": 123,
   "id": "82079173-33dc-44f0-b442-3a86b08311c5",
   "metadata": {},
   "outputs": [
    {
     "data": {
      "text/html": [
       "<div>\n",
       "<style scoped>\n",
       "    .dataframe tbody tr th:only-of-type {\n",
       "        vertical-align: middle;\n",
       "    }\n",
       "\n",
       "    .dataframe tbody tr th {\n",
       "        vertical-align: top;\n",
       "    }\n",
       "\n",
       "    .dataframe thead th {\n",
       "        text-align: right;\n",
       "    }\n",
       "</style>\n",
       "<table border=\"1\" class=\"dataframe\">\n",
       "  <thead>\n",
       "    <tr style=\"text-align: right;\">\n",
       "      <th></th>\n",
       "      <th>class</th>\n",
       "      <th>cap-diameter</th>\n",
       "      <th>cap-shape</th>\n",
       "      <th>cap-surface</th>\n",
       "      <th>cap-color</th>\n",
       "      <th>does-bruise-or-bleed</th>\n",
       "      <th>gill-attachment</th>\n",
       "      <th>gill-spacing</th>\n",
       "      <th>gill-color</th>\n",
       "      <th>stem-height</th>\n",
       "      <th>...</th>\n",
       "      <th>stem-root</th>\n",
       "      <th>stem-surface</th>\n",
       "      <th>stem-color</th>\n",
       "      <th>veil-type</th>\n",
       "      <th>veil-color</th>\n",
       "      <th>has-ring</th>\n",
       "      <th>ring-type</th>\n",
       "      <th>spore-print-color</th>\n",
       "      <th>habitat</th>\n",
       "      <th>season</th>\n",
       "    </tr>\n",
       "  </thead>\n",
       "  <tbody>\n",
       "    <tr>\n",
       "      <th>0</th>\n",
       "      <td>p</td>\n",
       "      <td>15.26</td>\n",
       "      <td>x</td>\n",
       "      <td>g</td>\n",
       "      <td>o</td>\n",
       "      <td>f</td>\n",
       "      <td>e</td>\n",
       "      <td>NaN</td>\n",
       "      <td>w</td>\n",
       "      <td>16.95</td>\n",
       "      <td>...</td>\n",
       "      <td>s</td>\n",
       "      <td>y</td>\n",
       "      <td>w</td>\n",
       "      <td>u</td>\n",
       "      <td>w</td>\n",
       "      <td>t</td>\n",
       "      <td>g</td>\n",
       "      <td>NaN</td>\n",
       "      <td>d</td>\n",
       "      <td>w</td>\n",
       "    </tr>\n",
       "    <tr>\n",
       "      <th>1</th>\n",
       "      <td>p</td>\n",
       "      <td>16.60</td>\n",
       "      <td>x</td>\n",
       "      <td>g</td>\n",
       "      <td>o</td>\n",
       "      <td>f</td>\n",
       "      <td>e</td>\n",
       "      <td>NaN</td>\n",
       "      <td>w</td>\n",
       "      <td>17.99</td>\n",
       "      <td>...</td>\n",
       "      <td>s</td>\n",
       "      <td>y</td>\n",
       "      <td>w</td>\n",
       "      <td>u</td>\n",
       "      <td>w</td>\n",
       "      <td>t</td>\n",
       "      <td>g</td>\n",
       "      <td>NaN</td>\n",
       "      <td>d</td>\n",
       "      <td>u</td>\n",
       "    </tr>\n",
       "    <tr>\n",
       "      <th>2</th>\n",
       "      <td>p</td>\n",
       "      <td>14.07</td>\n",
       "      <td>x</td>\n",
       "      <td>g</td>\n",
       "      <td>o</td>\n",
       "      <td>f</td>\n",
       "      <td>e</td>\n",
       "      <td>NaN</td>\n",
       "      <td>w</td>\n",
       "      <td>17.80</td>\n",
       "      <td>...</td>\n",
       "      <td>s</td>\n",
       "      <td>y</td>\n",
       "      <td>w</td>\n",
       "      <td>u</td>\n",
       "      <td>w</td>\n",
       "      <td>t</td>\n",
       "      <td>g</td>\n",
       "      <td>NaN</td>\n",
       "      <td>d</td>\n",
       "      <td>w</td>\n",
       "    </tr>\n",
       "    <tr>\n",
       "      <th>3</th>\n",
       "      <td>p</td>\n",
       "      <td>14.17</td>\n",
       "      <td>f</td>\n",
       "      <td>h</td>\n",
       "      <td>e</td>\n",
       "      <td>f</td>\n",
       "      <td>e</td>\n",
       "      <td>NaN</td>\n",
       "      <td>w</td>\n",
       "      <td>15.77</td>\n",
       "      <td>...</td>\n",
       "      <td>s</td>\n",
       "      <td>y</td>\n",
       "      <td>w</td>\n",
       "      <td>u</td>\n",
       "      <td>w</td>\n",
       "      <td>t</td>\n",
       "      <td>p</td>\n",
       "      <td>NaN</td>\n",
       "      <td>d</td>\n",
       "      <td>w</td>\n",
       "    </tr>\n",
       "    <tr>\n",
       "      <th>4</th>\n",
       "      <td>p</td>\n",
       "      <td>14.64</td>\n",
       "      <td>x</td>\n",
       "      <td>h</td>\n",
       "      <td>o</td>\n",
       "      <td>f</td>\n",
       "      <td>e</td>\n",
       "      <td>NaN</td>\n",
       "      <td>w</td>\n",
       "      <td>16.53</td>\n",
       "      <td>...</td>\n",
       "      <td>s</td>\n",
       "      <td>y</td>\n",
       "      <td>w</td>\n",
       "      <td>u</td>\n",
       "      <td>w</td>\n",
       "      <td>t</td>\n",
       "      <td>p</td>\n",
       "      <td>NaN</td>\n",
       "      <td>d</td>\n",
       "      <td>w</td>\n",
       "    </tr>\n",
       "  </tbody>\n",
       "</table>\n",
       "<p>5 rows × 21 columns</p>\n",
       "</div>"
      ],
      "text/plain": [
       "  class  cap-diameter cap-shape cap-surface cap-color does-bruise-or-bleed  \\\n",
       "0     p         15.26         x           g         o                    f   \n",
       "1     p         16.60         x           g         o                    f   \n",
       "2     p         14.07         x           g         o                    f   \n",
       "3     p         14.17         f           h         e                    f   \n",
       "4     p         14.64         x           h         o                    f   \n",
       "\n",
       "  gill-attachment gill-spacing gill-color  stem-height  ...  stem-root  \\\n",
       "0               e          NaN          w        16.95  ...          s   \n",
       "1               e          NaN          w        17.99  ...          s   \n",
       "2               e          NaN          w        17.80  ...          s   \n",
       "3               e          NaN          w        15.77  ...          s   \n",
       "4               e          NaN          w        16.53  ...          s   \n",
       "\n",
       "  stem-surface stem-color veil-type veil-color has-ring ring-type  \\\n",
       "0            y          w         u          w        t         g   \n",
       "1            y          w         u          w        t         g   \n",
       "2            y          w         u          w        t         g   \n",
       "3            y          w         u          w        t         p   \n",
       "4            y          w         u          w        t         p   \n",
       "\n",
       "  spore-print-color habitat season  \n",
       "0               NaN       d      w  \n",
       "1               NaN       d      u  \n",
       "2               NaN       d      w  \n",
       "3               NaN       d      w  \n",
       "4               NaN       d      w  \n",
       "\n",
       "[5 rows x 21 columns]"
      ]
     },
     "execution_count": 123,
     "metadata": {},
     "output_type": "execute_result"
    }
   ],
   "source": [
    "data.head()"
   ]
  },
  {
   "cell_type": "code",
   "execution_count": 124,
   "id": "27ff53f7-ff32-4b3c-aba2-150ec06b9e98",
   "metadata": {},
   "outputs": [
    {
     "data": {
      "text/plain": [
       "class                      2\n",
       "cap-diameter            2571\n",
       "cap-shape                  7\n",
       "cap-surface               11\n",
       "cap-color                 12\n",
       "does-bruise-or-bleed       2\n",
       "gill-attachment            7\n",
       "gill-spacing               3\n",
       "gill-color                12\n",
       "stem-height             2226\n",
       "stem-width              4630\n",
       "stem-root                  5\n",
       "stem-surface               8\n",
       "stem-color                13\n",
       "veil-type                  1\n",
       "veil-color                 6\n",
       "has-ring                   2\n",
       "ring-type                  8\n",
       "spore-print-color          7\n",
       "habitat                    8\n",
       "season                     4\n",
       "dtype: int64"
      ]
     },
     "execution_count": 124,
     "metadata": {},
     "output_type": "execute_result"
    }
   ],
   "source": [
    "data.nunique()"
   ]
  },
  {
   "cell_type": "code",
   "execution_count": 125,
   "id": "8b8de9d9-e5fc-4083-bdab-603d6ec21f2d",
   "metadata": {},
   "outputs": [],
   "source": [
    "null_value=(data.isnull().sum())"
   ]
  },
  {
   "cell_type": "code",
   "execution_count": 126,
   "id": "d2cbc227-c6ed-4363-b1b7-bfeeb2c86d3b",
   "metadata": {},
   "outputs": [],
   "source": [
    "a=(null_value.shape)\n",
    "per_null=[]\n",
    "for i in (range(a[0])):\n",
    "    percentage_null=[((null_value.iloc[i]/data.shape[0])*100).round()]\n",
    "    per_null.append(percentage_null)"
   ]
  },
  {
   "cell_type": "code",
   "execution_count": 127,
   "id": "b5d6f358-f1a3-4fa3-8882-1f7e77a75f84",
   "metadata": {},
   "outputs": [
    {
     "name": "stdout",
     "output_type": "stream",
     "text": [
      "class                      0 %\n",
      "cap-diameter               0 %\n",
      "cap-shape                  0 %\n",
      "cap-surface                23 %\n",
      "cap-color                  0 %\n",
      "does-bruise-or-bleed       0 %\n",
      "gill-attachment            16 %\n",
      "gill-spacing               41 %\n",
      "gill-color                 0 %\n",
      "stem-height                0 %\n",
      "stem-width                 0 %\n",
      "stem-root                  84 %\n",
      "stem-surface               62 %\n",
      "stem-color                 0 %\n",
      "veil-type                  95 %\n",
      "veil-color                 88 %\n",
      "has-ring                   0 %\n",
      "ring-type                  4 %\n",
      "spore-print-color          90 %\n",
      "habitat                    0 %\n",
      "season                     0 %\n"
     ]
    }
   ],
   "source": [
    "k=25\n",
    "for j in (range(a[0])):\n",
    "    print(data.columns[j],(k-len(data.columns[j]))*\" \",int(*per_null[j]),\"%\")"
   ]
  },
  {
   "cell_type": "code",
   "execution_count": 131,
   "id": "d834cbbe-9c34-4859-ba72-e2afe83976f9",
   "metadata": {},
   "outputs": [
    {
     "data": {
      "text/plain": [
       "0        p\n",
       "1        p\n",
       "2        p\n",
       "3        p\n",
       "4        p\n",
       "        ..\n",
       "61064    p\n",
       "61065    p\n",
       "61066    p\n",
       "61067    p\n",
       "61068    p\n",
       "Name: class, Length: 61069, dtype: object"
      ]
     },
     "execution_count": 131,
     "metadata": {},
     "output_type": "execute_result"
    }
   ],
   "source": [
    "y=data['class']\n",
    "y"
   ]
  },
  {
   "cell_type": "code",
   "execution_count": 132,
   "id": "8f806991-d426-4416-9903-069ba73e6a47",
   "metadata": {},
   "outputs": [],
   "source": [
    "main_data=data.drop(['class','stem-root','veil-type','veil-color','spore-print-color'], axis=1)"
   ]
  },
  {
   "cell_type": "code",
   "execution_count": 135,
   "id": "ffb7b6c7-a3ca-4e71-8c68-405aceacc8eb",
   "metadata": {},
   "outputs": [
    {
     "data": {
      "text/html": [
       "<div>\n",
       "<style scoped>\n",
       "    .dataframe tbody tr th:only-of-type {\n",
       "        vertical-align: middle;\n",
       "    }\n",
       "\n",
       "    .dataframe tbody tr th {\n",
       "        vertical-align: top;\n",
       "    }\n",
       "\n",
       "    .dataframe thead th {\n",
       "        text-align: right;\n",
       "    }\n",
       "</style>\n",
       "<table border=\"1\" class=\"dataframe\">\n",
       "  <thead>\n",
       "    <tr style=\"text-align: right;\">\n",
       "      <th></th>\n",
       "      <th>cap-diameter</th>\n",
       "      <th>cap-shape</th>\n",
       "      <th>cap-surface</th>\n",
       "      <th>cap-color</th>\n",
       "      <th>does-bruise-or-bleed</th>\n",
       "      <th>gill-attachment</th>\n",
       "      <th>gill-spacing</th>\n",
       "      <th>gill-color</th>\n",
       "      <th>stem-height</th>\n",
       "      <th>stem-width</th>\n",
       "      <th>stem-surface</th>\n",
       "      <th>stem-color</th>\n",
       "      <th>has-ring</th>\n",
       "      <th>ring-type</th>\n",
       "      <th>habitat</th>\n",
       "      <th>season</th>\n",
       "    </tr>\n",
       "  </thead>\n",
       "  <tbody>\n",
       "    <tr>\n",
       "      <th>0</th>\n",
       "      <td>15.26</td>\n",
       "      <td>x</td>\n",
       "      <td>g</td>\n",
       "      <td>o</td>\n",
       "      <td>f</td>\n",
       "      <td>e</td>\n",
       "      <td>unkonwn</td>\n",
       "      <td>w</td>\n",
       "      <td>16.95</td>\n",
       "      <td>17.09</td>\n",
       "      <td>y</td>\n",
       "      <td>w</td>\n",
       "      <td>t</td>\n",
       "      <td>g</td>\n",
       "      <td>d</td>\n",
       "      <td>w</td>\n",
       "    </tr>\n",
       "    <tr>\n",
       "      <th>1</th>\n",
       "      <td>16.60</td>\n",
       "      <td>x</td>\n",
       "      <td>g</td>\n",
       "      <td>o</td>\n",
       "      <td>f</td>\n",
       "      <td>e</td>\n",
       "      <td>unkonwn</td>\n",
       "      <td>w</td>\n",
       "      <td>17.99</td>\n",
       "      <td>18.19</td>\n",
       "      <td>y</td>\n",
       "      <td>w</td>\n",
       "      <td>t</td>\n",
       "      <td>g</td>\n",
       "      <td>d</td>\n",
       "      <td>u</td>\n",
       "    </tr>\n",
       "  </tbody>\n",
       "</table>\n",
       "</div>"
      ],
      "text/plain": [
       "   cap-diameter cap-shape cap-surface cap-color does-bruise-or-bleed  \\\n",
       "0         15.26         x           g         o                    f   \n",
       "1         16.60         x           g         o                    f   \n",
       "\n",
       "  gill-attachment gill-spacing gill-color  stem-height  stem-width  \\\n",
       "0               e      unkonwn          w        16.95       17.09   \n",
       "1               e      unkonwn          w        17.99       18.19   \n",
       "\n",
       "  stem-surface stem-color has-ring ring-type habitat season  \n",
       "0            y          w        t         g       d      w  \n",
       "1            y          w        t         g       d      u  "
      ]
     },
     "execution_count": 135,
     "metadata": {},
     "output_type": "execute_result"
    }
   ],
   "source": [
    "main_data=main_data.fillna('unkonwn')\n",
    "main_data.head(2)"
   ]
  },
  {
   "cell_type": "code",
   "execution_count": 134,
   "id": "616b5afe-01fb-48d4-8877-c0afe04b7566",
   "metadata": {},
   "outputs": [
    {
     "data": {
      "text/plain": [
       "(61069, 92)"
      ]
     },
     "execution_count": 134,
     "metadata": {},
     "output_type": "execute_result"
    }
   ],
   "source": [
    "pd.get_dummies(main_data,drop_first=True).shape"
   ]
  },
  {
   "cell_type": "code",
   "execution_count": 140,
   "id": "0b56e26e-2c69-4cbb-be45-aea741d12b22",
   "metadata": {},
   "outputs": [
    {
     "data": {
      "text/plain": [
       "a    30177\n",
       "u    22898\n",
       "w     5267\n",
       "s     2727\n",
       "Name: season, dtype: int64"
      ]
     },
     "execution_count": 140,
     "metadata": {},
     "output_type": "execute_result"
    }
   ],
   "source": [
    "main_data.season.value_counts().sort_values(ascending=False).head(20)"
   ]
  },
  {
   "cell_type": "code",
   "execution_count": null,
   "id": "369c7bf8-04bf-459d-9e36-eed8901f983b",
   "metadata": {},
   "outputs": [],
   "source": []
  },
  {
   "cell_type": "code",
   "execution_count": null,
   "id": "deea562b-25ae-462f-90e5-5c17f86f79d6",
   "metadata": {},
   "outputs": [],
   "source": []
  },
  {
   "cell_type": "code",
   "execution_count": null,
   "id": "85aace91-0de9-46d0-bd53-9cc85ddd8716",
   "metadata": {},
   "outputs": [],
   "source": []
  },
  {
   "cell_type": "code",
   "execution_count": null,
   "id": "4d885ffc-f389-4ef2-aac0-7e536b95edd6",
   "metadata": {},
   "outputs": [],
   "source": []
  },
  {
   "cell_type": "code",
   "execution_count": 114,
   "id": "c97f0d9b-db35-4989-942b-af3342e44fe6",
   "metadata": {},
   "outputs": [
    {
     "data": {
      "text/plain": [
       "class                      2\n",
       "cap-diameter            2571\n",
       "cap-shape                  7\n",
       "cap-surface               11\n",
       "cap-color                 12\n",
       "does-bruise-or-bleed       2\n",
       "gill-attachment            7\n",
       "gill-spacing               3\n",
       "gill-color                12\n",
       "stem-height             2226\n",
       "stem-width              4630\n",
       "stem-root                  5\n",
       "stem-surface               8\n",
       "stem-color                13\n",
       "veil-type                  1\n",
       "veil-color                 6\n",
       "has-ring                   2\n",
       "ring-type                  8\n",
       "spore-print-color          7\n",
       "habitat                    8\n",
       "season                     4\n",
       "dtype: int64"
      ]
     },
     "execution_count": 114,
     "metadata": {},
     "output_type": "execute_result"
    }
   ],
   "source": [
    "data.nunique()"
   ]
  },
  {
   "cell_type": "code",
   "execution_count": 115,
   "id": "73badecf-6556-4ef5-90d7-d2d302812285",
   "metadata": {},
   "outputs": [],
   "source": [
    "from sklearn import preprocessing"
   ]
  },
  {
   "cell_type": "code",
   "execution_count": 116,
   "id": "25635d42-326f-4527-847d-80c3bc245442",
   "metadata": {},
   "outputs": [
    {
     "data": {
      "text/html": [
       "<div>\n",
       "<style scoped>\n",
       "    .dataframe tbody tr th:only-of-type {\n",
       "        vertical-align: middle;\n",
       "    }\n",
       "\n",
       "    .dataframe tbody tr th {\n",
       "        vertical-align: top;\n",
       "    }\n",
       "\n",
       "    .dataframe thead th {\n",
       "        text-align: right;\n",
       "    }\n",
       "</style>\n",
       "<table border=\"1\" class=\"dataframe\">\n",
       "  <thead>\n",
       "    <tr style=\"text-align: right;\">\n",
       "      <th></th>\n",
       "      <th>class</th>\n",
       "      <th>cap-shape</th>\n",
       "      <th>cap-surface</th>\n",
       "      <th>cap-color</th>\n",
       "      <th>does-bruise-or-bleed</th>\n",
       "      <th>gill-attachment</th>\n",
       "      <th>gill-spacing</th>\n",
       "      <th>gill-color</th>\n",
       "      <th>stem-surface</th>\n",
       "      <th>stem-color</th>\n",
       "      <th>has-ring</th>\n",
       "      <th>ring-type</th>\n",
       "      <th>habitat</th>\n",
       "      <th>season</th>\n",
       "    </tr>\n",
       "  </thead>\n",
       "  <tbody>\n",
       "    <tr>\n",
       "      <th>0</th>\n",
       "      <td>p</td>\n",
       "      <td>x</td>\n",
       "      <td>g</td>\n",
       "      <td>o</td>\n",
       "      <td>f</td>\n",
       "      <td>e</td>\n",
       "      <td>unkonwn</td>\n",
       "      <td>w</td>\n",
       "      <td>y</td>\n",
       "      <td>w</td>\n",
       "      <td>t</td>\n",
       "      <td>g</td>\n",
       "      <td>d</td>\n",
       "      <td>w</td>\n",
       "    </tr>\n",
       "    <tr>\n",
       "      <th>1</th>\n",
       "      <td>p</td>\n",
       "      <td>x</td>\n",
       "      <td>g</td>\n",
       "      <td>o</td>\n",
       "      <td>f</td>\n",
       "      <td>e</td>\n",
       "      <td>unkonwn</td>\n",
       "      <td>w</td>\n",
       "      <td>y</td>\n",
       "      <td>w</td>\n",
       "      <td>t</td>\n",
       "      <td>g</td>\n",
       "      <td>d</td>\n",
       "      <td>u</td>\n",
       "    </tr>\n",
       "    <tr>\n",
       "      <th>2</th>\n",
       "      <td>p</td>\n",
       "      <td>x</td>\n",
       "      <td>g</td>\n",
       "      <td>o</td>\n",
       "      <td>f</td>\n",
       "      <td>e</td>\n",
       "      <td>unkonwn</td>\n",
       "      <td>w</td>\n",
       "      <td>y</td>\n",
       "      <td>w</td>\n",
       "      <td>t</td>\n",
       "      <td>g</td>\n",
       "      <td>d</td>\n",
       "      <td>w</td>\n",
       "    </tr>\n",
       "  </tbody>\n",
       "</table>\n",
       "</div>"
      ],
      "text/plain": [
       "  class cap-shape cap-surface cap-color does-bruise-or-bleed gill-attachment  \\\n",
       "0     p         x           g         o                    f               e   \n",
       "1     p         x           g         o                    f               e   \n",
       "2     p         x           g         o                    f               e   \n",
       "\n",
       "  gill-spacing gill-color stem-surface stem-color has-ring ring-type habitat  \\\n",
       "0      unkonwn          w            y          w        t         g       d   \n",
       "1      unkonwn          w            y          w        t         g       d   \n",
       "2      unkonwn          w            y          w        t         g       d   \n",
       "\n",
       "  season  \n",
       "0      w  \n",
       "1      u  \n",
       "2      w  "
      ]
     },
     "execution_count": 116,
     "metadata": {},
     "output_type": "execute_result"
    }
   ],
   "source": [
    "X=main_data.select_dtypes(include=[object])\n",
    "X.head(3)"
   ]
  },
  {
   "cell_type": "code",
   "execution_count": 117,
   "id": "ae7404da-1319-4a74-994f-e4db27295c18",
   "metadata": {},
   "outputs": [
    {
     "data": {
      "text/plain": [
       "(61069, 14)"
      ]
     },
     "execution_count": 117,
     "metadata": {},
     "output_type": "execute_result"
    }
   ],
   "source": [
    "le = preprocessing.LabelEncoder()\n",
    "\n",
    "X_2 = X.apply(le.fit_transform)\n",
    "X_2.head(10)\n",
    "X_2.shape"
   ]
  },
  {
   "cell_type": "code",
   "execution_count": 120,
   "id": "3c844d4e-c41c-4b35-b5fd-302f14e8b100",
   "metadata": {},
   "outputs": [
    {
     "data": {
      "text/plain": [
       "array([[0., 1., 0., ..., 0., 0., 1.],\n",
       "       [0., 1., 0., ..., 0., 1., 0.],\n",
       "       [0., 1., 0., ..., 0., 0., 1.],\n",
       "       ...,\n",
       "       [0., 1., 0., ..., 0., 1., 0.],\n",
       "       [0., 1., 0., ..., 0., 1., 0.],\n",
       "       [0., 1., 0., ..., 0., 1., 0.]])"
      ]
     },
     "execution_count": 120,
     "metadata": {},
     "output_type": "execute_result"
    }
   ],
   "source": [
    "enc = preprocessing.OneHotEncoder()\n",
    "\n",
    "enc.fit(X_2)\n",
    "\n",
    "onehotlabels = enc.transform(X_2).toarray()\n",
    "onehotlabels"
   ]
  },
  {
   "cell_type": "code",
   "execution_count": 70,
   "id": "ab8c8b3f-dac1-4288-8f7c-f4d9b1d3acac",
   "metadata": {},
   "outputs": [],
   "source": [
    "main_data=main_data.fillna('unkonwn')"
   ]
  },
  {
   "cell_type": "code",
   "execution_count": 71,
   "id": "ce7306d1-9a46-4a84-94a7-191689c19348",
   "metadata": {},
   "outputs": [
    {
     "data": {
      "text/plain": [
       "cap-diameter            0\n",
       "cap-shape               0\n",
       "cap-surface             0\n",
       "cap-color               0\n",
       "does-bruise-or-bleed    0\n",
       "gill-attachment         0\n",
       "gill-spacing            0\n",
       "gill-color              0\n",
       "stem-height             0\n",
       "stem-width              0\n",
       "stem-surface            0\n",
       "stem-color              0\n",
       "has-ring                0\n",
       "ring-type               0\n",
       "habitat                 0\n",
       "season                  0\n",
       "dtype: int64"
      ]
     },
     "execution_count": 71,
     "metadata": {},
     "output_type": "execute_result"
    }
   ],
   "source": [
    "y=main_data['class']\n",
    "main_data=main_data.drop(['class'],axis=1)\n",
    "main_data.isnull().sum()"
   ]
  },
  {
   "cell_type": "code",
   "execution_count": 72,
   "id": "68a70965-6ad4-40d4-9149-1e0f98031b05",
   "metadata": {},
   "outputs": [],
   "source": [
    "from sklearn.model_selection import train_test_split\n",
    "X_train, X_test,y_train, y_test = train_test_split(main_data,y, test_size=0.2)"
   ]
  },
  {
   "cell_type": "code",
   "execution_count": 46,
   "id": "dbb6b673-41c2-44d0-bf5f-c2809051fefa",
   "metadata": {},
   "outputs": [
    {
     "data": {
      "text/html": [
       "<div>\n",
       "<style scoped>\n",
       "    .dataframe tbody tr th:only-of-type {\n",
       "        vertical-align: middle;\n",
       "    }\n",
       "\n",
       "    .dataframe tbody tr th {\n",
       "        vertical-align: top;\n",
       "    }\n",
       "\n",
       "    .dataframe thead th {\n",
       "        text-align: right;\n",
       "    }\n",
       "</style>\n",
       "<table border=\"1\" class=\"dataframe\">\n",
       "  <thead>\n",
       "    <tr style=\"text-align: right;\">\n",
       "      <th></th>\n",
       "      <th>cap-diameter</th>\n",
       "      <th>cap-shape</th>\n",
       "      <th>cap-surface</th>\n",
       "      <th>cap-color</th>\n",
       "      <th>does-bruise-or-bleed</th>\n",
       "      <th>gill-attachment</th>\n",
       "      <th>gill-spacing</th>\n",
       "      <th>gill-color</th>\n",
       "      <th>stem-height</th>\n",
       "      <th>stem-width</th>\n",
       "      <th>stem-color</th>\n",
       "      <th>has-ring</th>\n",
       "      <th>ring-type</th>\n",
       "      <th>habitat</th>\n",
       "      <th>season</th>\n",
       "    </tr>\n",
       "  </thead>\n",
       "  <tbody>\n",
       "    <tr>\n",
       "      <th>17804</th>\n",
       "      <td>8.87</td>\n",
       "      <td>p</td>\n",
       "      <td>NaN</td>\n",
       "      <td>n</td>\n",
       "      <td>f</td>\n",
       "      <td>a</td>\n",
       "      <td>NaN</td>\n",
       "      <td>w</td>\n",
       "      <td>7.29</td>\n",
       "      <td>13.18</td>\n",
       "      <td>g</td>\n",
       "      <td>f</td>\n",
       "      <td>f</td>\n",
       "      <td>g</td>\n",
       "      <td>u</td>\n",
       "    </tr>\n",
       "    <tr>\n",
       "      <th>21314</th>\n",
       "      <td>3.87</td>\n",
       "      <td>x</td>\n",
       "      <td>t</td>\n",
       "      <td>n</td>\n",
       "      <td>f</td>\n",
       "      <td>d</td>\n",
       "      <td>NaN</td>\n",
       "      <td>o</td>\n",
       "      <td>5.68</td>\n",
       "      <td>7.45</td>\n",
       "      <td>o</td>\n",
       "      <td>f</td>\n",
       "      <td>f</td>\n",
       "      <td>d</td>\n",
       "      <td>a</td>\n",
       "    </tr>\n",
       "    <tr>\n",
       "      <th>340</th>\n",
       "      <td>13.60</td>\n",
       "      <td>f</td>\n",
       "      <td>h</td>\n",
       "      <td>o</td>\n",
       "      <td>f</td>\n",
       "      <td>e</td>\n",
       "      <td>NaN</td>\n",
       "      <td>w</td>\n",
       "      <td>16.32</td>\n",
       "      <td>16.09</td>\n",
       "      <td>w</td>\n",
       "      <td>t</td>\n",
       "      <td>g</td>\n",
       "      <td>d</td>\n",
       "      <td>u</td>\n",
       "    </tr>\n",
       "    <tr>\n",
       "      <th>27828</th>\n",
       "      <td>5.84</td>\n",
       "      <td>s</td>\n",
       "      <td>d</td>\n",
       "      <td>n</td>\n",
       "      <td>t</td>\n",
       "      <td>d</td>\n",
       "      <td>c</td>\n",
       "      <td>w</td>\n",
       "      <td>6.31</td>\n",
       "      <td>7.43</td>\n",
       "      <td>n</td>\n",
       "      <td>f</td>\n",
       "      <td>f</td>\n",
       "      <td>d</td>\n",
       "      <td>a</td>\n",
       "    </tr>\n",
       "    <tr>\n",
       "      <th>6675</th>\n",
       "      <td>5.83</td>\n",
       "      <td>s</td>\n",
       "      <td>NaN</td>\n",
       "      <td>n</td>\n",
       "      <td>f</td>\n",
       "      <td>d</td>\n",
       "      <td>c</td>\n",
       "      <td>w</td>\n",
       "      <td>4.51</td>\n",
       "      <td>7.17</td>\n",
       "      <td>w</td>\n",
       "      <td>f</td>\n",
       "      <td>f</td>\n",
       "      <td>h</td>\n",
       "      <td>u</td>\n",
       "    </tr>\n",
       "  </tbody>\n",
       "</table>\n",
       "</div>"
      ],
      "text/plain": [
       "       cap-diameter cap-shape cap-surface cap-color does-bruise-or-bleed  \\\n",
       "17804          8.87         p         NaN         n                    f   \n",
       "21314          3.87         x           t         n                    f   \n",
       "340           13.60         f           h         o                    f   \n",
       "27828          5.84         s           d         n                    t   \n",
       "6675           5.83         s         NaN         n                    f   \n",
       "\n",
       "      gill-attachment gill-spacing gill-color  stem-height  stem-width  \\\n",
       "17804               a          NaN          w         7.29       13.18   \n",
       "21314               d          NaN          o         5.68        7.45   \n",
       "340                 e          NaN          w        16.32       16.09   \n",
       "27828               d            c          w         6.31        7.43   \n",
       "6675                d            c          w         4.51        7.17   \n",
       "\n",
       "      stem-color has-ring ring-type habitat season  \n",
       "17804          g        f         f       g      u  \n",
       "21314          o        f         f       d      a  \n",
       "340            w        t         g       d      u  \n",
       "27828          n        f         f       d      a  \n",
       "6675           w        f         f       h      u  "
      ]
     },
     "execution_count": 46,
     "metadata": {},
     "output_type": "execute_result"
    }
   ],
   "source": [
    "X_train.head()"
   ]
  },
  {
   "cell_type": "code",
   "execution_count": 47,
   "id": "7cd6dcfe-a023-4937-9b4c-2f84cda8d997",
   "metadata": {},
   "outputs": [
    {
     "data": {
      "text/plain": [
       "17804    e\n",
       "21314    e\n",
       "340      p\n",
       "27828    p\n",
       "6675     e\n",
       "Name: class, dtype: object"
      ]
     },
     "execution_count": 47,
     "metadata": {},
     "output_type": "execute_result"
    }
   ],
   "source": [
    "y_train.head()"
   ]
  },
  {
   "cell_type": "code",
   "execution_count": null,
   "id": "af8ad5b1-198f-4ebf-8964-6b8c4ad7e20b",
   "metadata": {},
   "outputs": [],
   "source": []
  }
 ],
 "metadata": {
  "kernelspec": {
   "display_name": "Python 3 (ipykernel)",
   "language": "python",
   "name": "python3"
  },
  "language_info": {
   "codemirror_mode": {
    "name": "ipython",
    "version": 3
   },
   "file_extension": ".py",
   "mimetype": "text/x-python",
   "name": "python",
   "nbconvert_exporter": "python",
   "pygments_lexer": "ipython3",
   "version": "3.8.8"
  }
 },
 "nbformat": 4,
 "nbformat_minor": 5
}
